{
 "cells": [
  {
   "cell_type": "code",
   "execution_count": 1,
   "id": "9965bd88-5e4e-49e0-a00d-8ba510032346",
   "metadata": {},
   "outputs": [],
   "source": [
    "import pandas as pd"
   ]
  },
  {
   "cell_type": "markdown",
   "id": "0ec90180-7678-4da5-881d-faebbd85bc24",
   "metadata": {},
   "source": [
    "##### 1) Load the sales data (e.g., from a CSV file) into a Pandas DataFrame."
   ]
  },
  {
   "cell_type": "code",
   "execution_count": 2,
   "id": "eff8b890-4f51-4ce8-8630-837b28c0ba70",
   "metadata": {},
   "outputs": [],
   "source": [
    "df = pd.read_csv(\"sales_data.csv\")"
   ]
  },
  {
   "cell_type": "code",
   "execution_count": 3,
   "id": "2f777157-8fbe-4946-af64-eccb3385c330",
   "metadata": {},
   "outputs": [
    {
     "data": {
      "text/html": [
       "<div>\n",
       "<style scoped>\n",
       "    .dataframe tbody tr th:only-of-type {\n",
       "        vertical-align: middle;\n",
       "    }\n",
       "\n",
       "    .dataframe tbody tr th {\n",
       "        vertical-align: top;\n",
       "    }\n",
       "\n",
       "    .dataframe thead th {\n",
       "        text-align: right;\n",
       "    }\n",
       "</style>\n",
       "<table border=\"1\" class=\"dataframe\">\n",
       "  <thead>\n",
       "    <tr style=\"text-align: right;\">\n",
       "      <th></th>\n",
       "      <th>Date</th>\n",
       "      <th>Product</th>\n",
       "      <th>Sales</th>\n",
       "    </tr>\n",
       "  </thead>\n",
       "  <tbody>\n",
       "    <tr>\n",
       "      <th>0</th>\n",
       "      <td>01-01-2022</td>\n",
       "      <td>Product_A</td>\n",
       "      <td>1500</td>\n",
       "    </tr>\n",
       "    <tr>\n",
       "      <th>1</th>\n",
       "      <td>01-01-2022</td>\n",
       "      <td>Product_B</td>\n",
       "      <td>2000</td>\n",
       "    </tr>\n",
       "    <tr>\n",
       "      <th>2</th>\n",
       "      <td>02-01-2022</td>\n",
       "      <td>Product_A</td>\n",
       "      <td>1200</td>\n",
       "    </tr>\n",
       "    <tr>\n",
       "      <th>3</th>\n",
       "      <td>02-01-2022</td>\n",
       "      <td>Product_B</td>\n",
       "      <td>1800</td>\n",
       "    </tr>\n",
       "    <tr>\n",
       "      <th>4</th>\n",
       "      <td>03-01-2022</td>\n",
       "      <td>Product_A</td>\n",
       "      <td>1300</td>\n",
       "    </tr>\n",
       "  </tbody>\n",
       "</table>\n",
       "</div>"
      ],
      "text/plain": [
       "         Date    Product  Sales\n",
       "0  01-01-2022  Product_A   1500\n",
       "1  01-01-2022  Product_B   2000\n",
       "2  02-01-2022  Product_A   1200\n",
       "3  02-01-2022  Product_B   1800\n",
       "4  03-01-2022  Product_A   1300"
      ]
     },
     "execution_count": 3,
     "metadata": {},
     "output_type": "execute_result"
    }
   ],
   "source": [
    "df.head()"
   ]
  },
  {
   "cell_type": "markdown",
   "id": "083b53fd-92e6-49ea-a564-5280a870dcc1",
   "metadata": {},
   "source": [
    "##### 2) Explore and clean the data (handle missing values, duplicates)."
   ]
  },
  {
   "cell_type": "markdown",
   "id": "3dadae32-2cf5-4a35-a563-8b74e15c4878",
   "metadata": {},
   "source": [
    "##### Explore data"
   ]
  },
  {
   "cell_type": "code",
   "execution_count": 4,
   "id": "abdf9609-68a0-4f09-bceb-ab90ff268d63",
   "metadata": {},
   "outputs": [
    {
     "name": "stdout",
     "output_type": "stream",
     "text": [
      "<class 'pandas.core.frame.DataFrame'>\n",
      "RangeIndex: 12 entries, 0 to 11\n",
      "Data columns (total 3 columns):\n",
      " #   Column   Non-Null Count  Dtype \n",
      "---  ------   --------------  ----- \n",
      " 0   Date     12 non-null     object\n",
      " 1   Product  12 non-null     object\n",
      " 2   Sales    12 non-null     int64 \n",
      "dtypes: int64(1), object(2)\n",
      "memory usage: 416.0+ bytes\n"
     ]
    }
   ],
   "source": [
    "df.info()"
   ]
  },
  {
   "cell_type": "code",
   "execution_count": 5,
   "id": "feb8ee5e-035e-4df9-9676-72249e1a6189",
   "metadata": {},
   "outputs": [
    {
     "data": {
      "text/html": [
       "<div>\n",
       "<style scoped>\n",
       "    .dataframe tbody tr th:only-of-type {\n",
       "        vertical-align: middle;\n",
       "    }\n",
       "\n",
       "    .dataframe tbody tr th {\n",
       "        vertical-align: top;\n",
       "    }\n",
       "\n",
       "    .dataframe thead th {\n",
       "        text-align: right;\n",
       "    }\n",
       "</style>\n",
       "<table border=\"1\" class=\"dataframe\">\n",
       "  <thead>\n",
       "    <tr style=\"text-align: right;\">\n",
       "      <th></th>\n",
       "      <th>Sales</th>\n",
       "    </tr>\n",
       "  </thead>\n",
       "  <tbody>\n",
       "    <tr>\n",
       "      <th>count</th>\n",
       "      <td>12.000000</td>\n",
       "    </tr>\n",
       "    <tr>\n",
       "      <th>mean</th>\n",
       "      <td>1808.333333</td>\n",
       "    </tr>\n",
       "    <tr>\n",
       "      <th>std</th>\n",
       "      <td>347.610894</td>\n",
       "    </tr>\n",
       "    <tr>\n",
       "      <th>min</th>\n",
       "      <td>1200.000000</td>\n",
       "    </tr>\n",
       "    <tr>\n",
       "      <th>25%</th>\n",
       "      <td>1575.000000</td>\n",
       "    </tr>\n",
       "    <tr>\n",
       "      <th>50%</th>\n",
       "      <td>1850.000000</td>\n",
       "    </tr>\n",
       "    <tr>\n",
       "      <th>75%</th>\n",
       "      <td>2025.000000</td>\n",
       "    </tr>\n",
       "    <tr>\n",
       "      <th>max</th>\n",
       "      <td>2300.000000</td>\n",
       "    </tr>\n",
       "  </tbody>\n",
       "</table>\n",
       "</div>"
      ],
      "text/plain": [
       "             Sales\n",
       "count    12.000000\n",
       "mean   1808.333333\n",
       "std     347.610894\n",
       "min    1200.000000\n",
       "25%    1575.000000\n",
       "50%    1850.000000\n",
       "75%    2025.000000\n",
       "max    2300.000000"
      ]
     },
     "execution_count": 5,
     "metadata": {},
     "output_type": "execute_result"
    }
   ],
   "source": [
    "df.describe()"
   ]
  },
  {
   "cell_type": "code",
   "execution_count": 6,
   "id": "47bfab20-56b9-4780-b647-55fb19fe33f5",
   "metadata": {},
   "outputs": [
    {
     "data": {
      "text/plain": [
       "Date       0\n",
       "Product    0\n",
       "Sales      0\n",
       "dtype: int64"
      ]
     },
     "execution_count": 6,
     "metadata": {},
     "output_type": "execute_result"
    }
   ],
   "source": [
    "df.isnull().sum()"
   ]
  },
  {
   "cell_type": "code",
   "execution_count": 7,
   "id": "23bf4145-5959-42c2-bc4d-6e5bfd024c8c",
   "metadata": {},
   "outputs": [
    {
     "data": {
      "text/plain": [
       "0"
      ]
     },
     "execution_count": 7,
     "metadata": {},
     "output_type": "execute_result"
    }
   ],
   "source": [
    "df.duplicated().sum()"
   ]
  },
  {
   "cell_type": "markdown",
   "id": "4e925cd7-f754-45e1-9315-a149ee3766dd",
   "metadata": {},
   "source": [
    "##### 3) Calculate total sales, average sales, and maximum sales."
   ]
  },
  {
   "cell_type": "code",
   "execution_count": 8,
   "id": "5e02092b-36c6-4a11-8c85-94c6e61f4b98",
   "metadata": {},
   "outputs": [
    {
     "name": "stdout",
     "output_type": "stream",
     "text": [
      "21700\n"
     ]
    }
   ],
   "source": [
    "total_sales = df[\"Sales\"].sum()\n",
    "print(total_sales)"
   ]
  },
  {
   "cell_type": "code",
   "execution_count": 9,
   "id": "b1f7fa98-b47f-46ff-8049-2da5cb4cf862",
   "metadata": {},
   "outputs": [
    {
     "name": "stdout",
     "output_type": "stream",
     "text": [
      "1808.3333333333333\n"
     ]
    }
   ],
   "source": [
    "average_sales = df['Sales'].mean()\n",
    "print(average_sales)"
   ]
  },
  {
   "cell_type": "code",
   "execution_count": 10,
   "id": "35778011-8a95-4afe-a9d9-233f424e6272",
   "metadata": {},
   "outputs": [
    {
     "name": "stdout",
     "output_type": "stream",
     "text": [
      "2300\n"
     ]
    }
   ],
   "source": [
    "max_sales = df['Sales'].max()\n",
    "print(max_sales)"
   ]
  },
  {
   "cell_type": "markdown",
   "id": "56a1be70-eb05-4059-8b23-8fbb03c52e59",
   "metadata": {},
   "source": [
    "##### 4) Identify the best-selling product."
   ]
  },
  {
   "cell_type": "code",
   "execution_count": 11,
   "id": "410c5f45-7e28-4b21-8293-483c25626a03",
   "metadata": {},
   "outputs": [
    {
     "name": "stdout",
     "output_type": "stream",
     "text": [
      "Best-Selling Product : Product_B\n",
      "Total Sales for the Best-Selling Product : 12300\n"
     ]
    }
   ],
   "source": [
    "product_sales = df.groupby('Product')['Sales'].sum()\n",
    "print(\"Best-Selling Product :\",product_sales.idxmax())\n",
    "print(\"Total Sales for the Best-Selling Product :\",product_sales.max())"
   ]
  },
  {
   "cell_type": "markdown",
   "id": "80be4e91-85d4-45be-a158-fdd988e79ede",
   "metadata": {},
   "source": [
    "##### 5. Create visualizations such as bar charts to represent sales data."
   ]
  },
  {
   "cell_type": "code",
   "execution_count": 12,
   "id": "e1f5da43-7646-491b-a944-e5ad7adabdec",
   "metadata": {},
   "outputs": [],
   "source": [
    "import matplotlib.pyplot as plt"
   ]
  },
  {
   "cell_type": "code",
   "execution_count": 22,
   "id": "d8f49b84-a93a-4a4b-9c22-166c53eebcf3",
   "metadata": {},
   "outputs": [
    {
     "data": {
      "image/png": "[encoded data removed]",
      "text/plain": [
       "<Figure size 640x480 with 1 Axes>"
      ]
     },
     "metadata": {},
     "output_type": "display_data"
    }
   ],
   "source": [
    "plt.bar(df['Product'], df['Sales'], color='skyblue')\n",
    "plt.title('Total Sales by Product')\n",
    "plt.xlabel('Product')\n",
    "plt.ylabel('Total Sales')\n",
    "plt.show()\n"
   ]
  },
  {
   "cell_type": "markdown",
   "id": "c24b0383-70e1-4d48-aa25-0ba3d83917a4",
   "metadata": {},
   "source": [
    "##### 6. Analyze sales trends over time."
   ]
  },
  {
   "cell_type": "code",
   "execution_count": 14,
   "id": "c686bf9d-ca75-4aeb-aa8e-a8a2c3026cee",
   "metadata": {},
   "outputs": [],
   "source": [
    "df['Date'] = pd.to_datetime(df['Date'])\n",
    "\n",
    "# print(df.columns)"
   ]
  },
  {
   "cell_type": "code",
   "execution_count": 15,
   "id": "48a7d0fb-95ca-4936-8589-0e14d699b5f7",
   "metadata": {},
   "outputs": [
    {
     "data": {
      "image/png": "[encoded data removed]",
      "text/plain": [
       "<Figure size 1000x600 with 1 Axes>"
      ]
     },
     "metadata": {},
     "output_type": "display_data"
    }
   ],
   "source": [
    "plt.figure(figsize=(10, 6))\n",
    "plt.plot(df['Date'], df['Sales'], marker='o', linestyle=\":\", color='blue')\n",
    "plt.title('Sales Trends Over Time')\n",
    "plt.xlabel('Date')\n",
    "plt.ylabel('Sales')\n",
    "plt.grid(True)\n",
    "plt.show()"
   ]
  },
  {
   "cell_type": "code",
   "execution_count": null,
   "id": "f9b5b26f-0fd8-4884-bc1a-8d78db0e5507",
   "metadata": {},
   "outputs": [],
   "source": []
  }
 ],
 "metadata": {
  "kernelspec": {
   "display_name": "Python 3 (ipykernel)",
   "language": "python",
   "name": "python3"
  },
  "language_info": {
   "codemirror_mode": {
    "name": "ipython",
    "version": 3
   },
   "file_extension": ".py",
   "mimetype": "text/x-python",
   "name": "python",
   "nbconvert_exporter": "python",
   "pygments_lexer": "ipython3",
   "version": "3.8.0"
  },
  "widgets": {
   "application/vnd.jupyter.widget-state+json": {
    "state": {},
    "version_major": 2,
    "version_minor": 0
   }
  }
 },
 "nbformat": 4,
 "nbformat_minor": 5
}
